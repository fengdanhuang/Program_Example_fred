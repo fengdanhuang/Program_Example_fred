{
 "cells": [
  {
   "cell_type": "markdown",
   "metadata": {},
   "source": [
    "56. Merge Intervals\n",
    "Given a collection of intervals, merge all overlapping intervals.\n",
    "\n",
    "Example 1:\n",
    "Input: [[1,3],[2,6],[8,10],[15,18]]\n",
    "Output: [[1,6],[8,10],[15,18]]\n",
    "Explanation: Since intervals [1,3] and [2,6] overlaps, merge them into [1,6].\n",
    "\n",
    "Example 2:\n",
    "Input: [[1,4],[4,5]]\n",
    "Output: [[1,5]]\n",
    "Explanation: Intervals [1,4] and [4,5] are considered overlapping."
   ]
  },
  {
   "cell_type": "code",
   "execution_count": 17,
   "metadata": {},
   "outputs": [],
   "source": [
    "import collections"
   ]
  },
  {
   "cell_type": "code",
   "execution_count": 18,
   "metadata": {},
   "outputs": [],
   "source": [
    "# Definition for an interval.\n",
    "class Interval:\n",
    "    def __init__(self, s=0, e=0):\n",
    "        self.start = s\n",
    "        self.end = e"
   ]
  },
  {
   "cell_type": "code",
   "execution_count": 19,
   "metadata": {},
   "outputs": [],
   "source": [
    "class Solution:\n",
    "    def overlap(self, a, b):\n",
    "        return a.start <= b.end and b.start <= a.end\n",
    "\n",
    "    # generate graph where there is an undirected edge between intervals u\n",
    "    # and v iff u and v overlap.\n",
    "    def build_graph(self, intervals):\n",
    "        graph = collections.defaultdict(list)\n",
    "\n",
    "        for i, interval_i in enumerate(intervals):\n",
    "            for j in range(i+1, len(intervals)):\n",
    "                if self.overlap(interval_i, intervals[j]):\n",
    "                    graph[interval_i].append(intervals[j])\n",
    "                    graph[intervals[j]].append(interval_i)\n",
    "\n",
    "        return graph\n",
    "\n",
    "    # merges all of the nodes in this connected component into one interval.\n",
    "    def merge_nodes(self, nodes):\n",
    "        min_start = min(node.start for node in nodes)\n",
    "        max_end = max(node.end for node in nodes)\n",
    "        return Interval(min_start, max_end)\n",
    "\n",
    "    # gets the connected components of the interval overlap graph.\n",
    "    def get_components(self, graph, intervals):\n",
    "        visited = set()\n",
    "        comp_number = 0\n",
    "        nodes_in_comp = collections.defaultdict(list)\n",
    "\n",
    "        def mark_component_dfs(start):\n",
    "            stack = [start]\n",
    "            while stack:\n",
    "                node = stack.pop()\n",
    "                if node not in visited:\n",
    "                    visited.add(node)\n",
    "                    nodes_in_comp[comp_number].append(node)\n",
    "                    stack.extend(graph[node])\n",
    "\n",
    "        # mark all nodes in the same connected component with the same integer.\n",
    "        for interval in intervals:\n",
    "            if interval not in visited:\n",
    "                mark_component_dfs(interval)\n",
    "                comp_number += 1\n",
    "\n",
    "        return nodes_in_comp, comp_number\n",
    "\n",
    "    def merge(self, intervals):\n",
    "        graph = self.build_graph(intervals)\n",
    "        nodes_in_comp, number_of_comps = self.get_components(graph, intervals)\n",
    "\n",
    "        # all intervals in each connected component must be merged.\n",
    "        return [self.merge_nodes(nodes_in_comp[comp]) for comp in range(number_of_comps)]"
   ]
  },
  {
   "cell_type": "code",
   "execution_count": 20,
   "metadata": {},
   "outputs": [],
   "source": [
    "ii = [Interval(1,3), Interval(2,6), Interval(8,10), Interval(15,18)]\n",
    "s1 = Solution()\n",
    "out = s1.merge(ii)"
   ]
  },
  {
   "cell_type": "code",
   "execution_count": 24,
   "metadata": {},
   "outputs": [
    {
     "name": "stdout",
     "output_type": "stream",
     "text": [
      "[1,6]\n"
     ]
    }
   ],
   "source": [
    "print('[' + str(out[0].start) +\",\"+ str(out[0].end) +']')"
   ]
  },
  {
   "cell_type": "code",
   "execution_count": null,
   "metadata": {},
   "outputs": [],
   "source": []
  }
 ],
 "metadata": {
  "kernelspec": {
   "display_name": "Python 3",
   "language": "python",
   "name": "python3"
  },
  "language_info": {
   "codemirror_mode": {
    "name": "ipython",
    "version": 3
   },
   "file_extension": ".py",
   "mimetype": "text/x-python",
   "name": "python",
   "nbconvert_exporter": "python",
   "pygments_lexer": "ipython3",
   "version": "3.7.2"
  }
 },
 "nbformat": 4,
 "nbformat_minor": 2
}
