{
 "cells": [
  {
   "cell_type": "markdown",
   "metadata": {},
   "source": [
    "In Python, the main purpose of Property() function is to create property of a class.\n",
    "\n",
    "Syntax: property(fget, fset, fdel, doc)\n",
    "\n",
    "Parameters:\n",
    "fget() – used to get the value of attribute\n",
    "fset() – used to set the value of atrribute\n",
    "fdel() – used to delete the attribute value\n",
    "doc() – string that contains the documentation (docstring) for the attribute\n",
    "\n",
    "Return: Returns a property attribute from the given getter, setter and deleter."
   ]
  },
  {
   "cell_type": "markdown",
   "metadata": {},
   "source": [
    "Note:\n",
    "1. If no arguments are given, property() method returns a base property attribute that doesn’t contain any getter, setter or deleter.\n",
    "2. If doc isn’t provided, property() method takes the docstring of the getter function."
   ]
  },
  {
   "cell_type": "markdown",
   "metadata": {},
   "source": [
    "Example #1: Using property() method"
   ]
  },
  {
   "cell_type": "code",
   "execution_count": 16,
   "metadata": {},
   "outputs": [],
   "source": [
    "# Python program to explain property() function \n",
    "  \n",
    "# Alphabet class \n",
    "class Alphabet: \n",
    "    def __init__(self, value): \n",
    "        self._value = value \n",
    "          \n",
    "    # getting the values \n",
    "    def getValue(self): \n",
    "        print('Getting value') \n",
    "        return self._value \n",
    "          \n",
    "    # setting the values \n",
    "    def setValue(self, value): \n",
    "        print('Setting value to ' + value) \n",
    "        self._value = value \n",
    "          \n",
    "    # deleting the values \n",
    "    def delValue(self): \n",
    "        print('Deleting value') \n",
    "        del self._value \n",
    "    \n",
    "    value = property(getValue, setValue, delValue, ) "
   ]
  },
  {
   "cell_type": "code",
   "execution_count": 17,
   "metadata": {},
   "outputs": [
    {
     "name": "stdout",
     "output_type": "stream",
     "text": [
      "Getting value\n",
      "GeeksforGeeks\n"
     ]
    }
   ],
   "source": [
    "# passing the value \n",
    "x = Alphabet('GeeksforGeeks') \n",
    "print(x.value) \n",
    "  \n",
    "x.value = 'GfG'\n",
    "  \n",
    "del x.value "
   ]
  },
  {
   "cell_type": "markdown",
   "metadata": {},
   "source": [
    "Using Decorator: \n",
    "The main work of decorators is they are used to add functionality to the existing code. Also called metaprogramming, as a part of the program tries to modify another part of the program at compile time."
   ]
  },
  {
   "cell_type": "markdown",
   "metadata": {},
   "source": [
    "Example #2: Using @property decorator"
   ]
  },
  {
   "cell_type": "code",
   "execution_count": 18,
   "metadata": {},
   "outputs": [
    {
     "name": "stdout",
     "output_type": "stream",
     "text": [
      "Getting value\n",
      "Peter\n"
     ]
    }
   ],
   "source": [
    "# Python program to explain property() \n",
    "# function using decorator \n",
    "  \n",
    "class Alphabet: \n",
    "    def __init__(self, value): \n",
    "        self._value = value \n",
    "          \n",
    "    # getting the values     \n",
    "    @property\n",
    "    def value(self): \n",
    "        print('Getting value') \n",
    "        return self._value \n",
    "          \n",
    "    # setting the values     \n",
    "    @value.setter \n",
    "    def value(self, value): \n",
    "        print('Setting value to ' + value) \n",
    "        self._value = value \n",
    "          \n",
    "    # deleting the values \n",
    "    @value.deleter \n",
    "    def value(self): \n",
    "        print('Deleting value') \n",
    "        del self._value \n",
    "\n",
    "# passing the value \n",
    "x = Alphabet('Peter') \n",
    "print(x.value) \n",
    "  \n",
    "x.value = 'Diesel'\n",
    "  \n",
    "del x.value "
   ]
  },
  {
   "cell_type": "markdown",
   "metadata": {},
   "source": [
    "Using @property decorator works same as property() method.\n",
    "\n",
    "First, specify that value() method is also an attribute of Alphabet\n",
    "Then, we use the attribute value to specify the setter and the deleter. \n",
    "Notice that the same method value() is used with different definitions for defining the getter, setter and deleter. Whenever we use x.value, it internally calls the appropriate getter, setter and deleter."
   ]
  },
  {
   "cell_type": "markdown",
   "metadata": {},
   "source": []
  },
  {
   "cell_type": "markdown",
   "metadata": {},
   "source": [
    "class property([fget[, fset[, fdel[, doc]]]])"
   ]
  },
  {
   "cell_type": "markdown",
   "metadata": {},
   "source": [
    "Return a property attribute for new-style classes (classes that derive from object)."
   ]
  },
  {
   "cell_type": "markdown",
   "metadata": {},
   "source": [
    "fget is a function for getting an attribute value. \n",
    "fset is a function for setting an attribute value. \n",
    "fdel is a function for deleting an attribute value. \n",
    "doc creates a docstring for the attribute."
   ]
  },
  {
   "cell_type": "markdown",
   "metadata": {},
   "source": [
    "A typical use is to define a managed attribute x:"
   ]
  },
  {
   "cell_type": "code",
   "execution_count": 19,
   "metadata": {},
   "outputs": [],
   "source": [
    "class C(object):\n",
    "    def __init__(self):\n",
    "        self._x = None\n",
    "\n",
    "    def getx(self):\n",
    "        return self._x\n",
    "\n",
    "    def setx(self, value):\n",
    "        self._x = value\n",
    "\n",
    "    def delx(self):\n",
    "        del self._x\n",
    "\n",
    "    x = property(getx, setx, delx, \"I'm the 'x' property.\")"
   ]
  },
  {
   "cell_type": "markdown",
   "metadata": {},
   "source": [
    "If c is an instance of C, c.x will invoke the getter, c.x = value will invoke the setter and del c.x the deleter.\n",
    "If given, doc will be the docstring of the property attribute. \n",
    "Otherwise, the property will copy fget’s docstring (if it exists). \n",
    "This makes it possible to create read-only properties easily using property() as a decorator:"
   ]
  },
  {
   "cell_type": "code",
   "execution_count": 20,
   "metadata": {},
   "outputs": [],
   "source": [
    "class Parrot(object):\n",
    "    def __init__(self):\n",
    "        self._voltage = 100000\n",
    "\n",
    "    @property\n",
    "    def voltage(self):\n",
    "        \"\"\"Get the current voltage.\"\"\"\n",
    "        return self._voltage"
   ]
  },
  {
   "cell_type": "markdown",
   "metadata": {},
   "source": [
    "The @property decorator turns the voltage() method into a “getter” for a read-only attribute with the same name, and it sets the docstring for voltage to “Get the current voltage.”\n",
    "\n",
    "A property object has getter, setter, and deleter methods usable as decorators that create a copy of the property with the corresponding accessor function set to the decorated function. \n",
    "This is best explained with an example:"
   ]
  },
  {
   "cell_type": "code",
   "execution_count": 21,
   "metadata": {},
   "outputs": [],
   "source": [
    "class C(object):\n",
    "    def __init__(self):\n",
    "        self._x = None\n",
    "\n",
    "    @property\n",
    "    def x(self):\n",
    "        \"\"\"I'm the 'x' property.\"\"\"\n",
    "        return self._x\n",
    "\n",
    "    @x.setter\n",
    "    def x(self, value):\n",
    "        self._x = value\n",
    "\n",
    "    @x.deleter\n",
    "    def x(self):\n",
    "        del self._x"
   ]
  },
  {
   "cell_type": "markdown",
   "metadata": {},
   "source": [
    "This code is exactly equivalent to the first example. \n",
    "Be sure to give the additional functions the same name as the original property (x in this case.)\n",
    "The returned property object also has the attributes fget, fset, and fdel corresponding to the constructor arguments."
   ]
  }
 ],
 "metadata": {
  "kernelspec": {
   "display_name": "Python 2",
   "language": "python",
   "name": "python2"
  },
  "language_info": {
   "codemirror_mode": {
    "name": "ipython",
    "version": 2
   },
   "file_extension": ".py",
   "mimetype": "text/x-python",
   "name": "python",
   "nbconvert_exporter": "python",
   "pygments_lexer": "ipython2",
   "version": "2.7.15"
  }
 },
 "nbformat": 4,
 "nbformat_minor": 2
}
